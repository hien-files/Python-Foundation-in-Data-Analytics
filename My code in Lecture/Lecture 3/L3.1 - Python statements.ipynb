{
 "cells": [
  {
   "attachments": {},
   "cell_type": "markdown",
   "metadata": {},
   "source": [
    "# 👉 CONTROL FLOW STATEMENT (CONTINUE)"
   ]
  },
  {
   "cell_type": "markdown",
   "metadata": {},
   "source": [
    "# 2 - Useful Operators"
   ]
  },
  {
   "attachments": {},
   "cell_type": "markdown",
   "metadata": {},
   "source": [
    "## 2.1 range\n",
    "\n",
    "<img src=\"https://techbeamers.com/wp-content/uploads/2019/05/Python-range-function-explained.png\" width=\"600\">"
   ]
  },
  {
   "cell_type": "code",
   "execution_count": 1,
   "metadata": {},
   "outputs": [
    {
     "data": {
      "text/plain": [
       "range(0, 6)"
      ]
     },
     "execution_count": 1,
     "metadata": {},
     "output_type": "execute_result"
    }
   ],
   "source": [
    "range(6) # mean: (0, 1, 2, 3, 4, 5)"
   ]
  },
  {
   "cell_type": "code",
   "execution_count": 2,
   "metadata": {},
   "outputs": [
    {
     "data": {
      "text/plain": [
       "[0, 1, 2, 3, 4, 5]"
      ]
     },
     "execution_count": 2,
     "metadata": {},
     "output_type": "execute_result"
    }
   ],
   "source": [
    "# Notice how 11 is not included, up to but not including 11, just like slice notation!\n",
    "list(range(6))"
   ]
  },
  {
   "cell_type": "code",
   "execution_count": 3,
   "metadata": {},
   "outputs": [
    {
     "data": {
      "text/plain": [
       "[2, 3, 4, 5, 6, 7, 8, 9, 10, 11]"
      ]
     },
     "execution_count": 3,
     "metadata": {},
     "output_type": "execute_result"
    }
   ],
   "source": [
    "list(range(2,12))"
   ]
  },
  {
   "cell_type": "code",
   "execution_count": 68,
   "metadata": {},
   "outputs": [
    {
     "data": {
      "text/plain": [
       "[0, 2, 4, 6, 8, 10]"
      ]
     },
     "execution_count": 68,
     "metadata": {},
     "output_type": "execute_result"
    }
   ],
   "source": [
    "list(range(0,11,2))"
   ]
  },
  {
   "attachments": {},
   "cell_type": "markdown",
   "metadata": {},
   "source": [
    "## 2.2 enumerate\n",
    "\n",
    "Python Enumerate Function is a generator that adds an incremental index next to each item of an iterable.\n",
    "\n",
    "<img src=\"https://tutorial.eyehunts.com//wp-content/uploads/2018/09/Python-Enumerate-Function-example-Why-this-is-useful--1024x450.png\" width=\"600\">"
   ]
  },
  {
   "cell_type": "code",
   "execution_count": 1,
   "metadata": {},
   "outputs": [
    {
     "name": "stdout",
     "output_type": "stream",
     "text": [
      "index 0 has value a\n",
      "index 1 has value b\n",
      "index 2 has value c\n",
      "index 3 has value d\n"
     ]
    }
   ],
   "source": [
    "# Near professional way\n",
    "index_count = 0\n",
    "lst = ['a', 'b', 'c', 'd']\n",
    "\n",
    "for letter in lst:\n",
    "    print(f'index {index_count} has value {letter}')\n",
    "    index_count += 1"
   ]
  },
  {
   "cell_type": "code",
   "execution_count": 2,
   "metadata": {},
   "outputs": [
    {
     "name": "stdout",
     "output_type": "stream",
     "text": [
      "index 0 has value a\n",
      "index 1 has value b\n",
      "index 2 has value c\n",
      "index 3 has value d\n"
     ]
    }
   ],
   "source": [
    "# Professional way!\n",
    "for i, letter in enumerate(lst):\n",
    "    print(f'index {i} has value {letter}')"
   ]
  },
  {
   "cell_type": "code",
   "execution_count": 15,
   "metadata": {},
   "outputs": [
    {
     "data": {
      "text/plain": [
       "[(0, 'a'), (1, 'b'), (2, 'c'), (3, 'd')]"
      ]
     },
     "execution_count": 15,
     "metadata": {},
     "output_type": "execute_result"
    }
   ],
   "source": [
    "# See what enumerate will do?\n",
    "list(enumerate(lst))"
   ]
  },
  {
   "cell_type": "markdown",
   "metadata": {},
   "source": [
    "## 2.3 zip\n",
    "\n",
    "![img](https://encrypted-tbn0.gstatic.com/images?q=tbn:ANd9GcQpGiEEVvS6Rcwm67hfriLl0muxq3iQws7Vrw&usqp=CAU)\n",
    "\n",
    "Notice the format enumerate actually returns, let's take a look by transforming it to a list()"
   ]
  },
  {
   "cell_type": "code",
   "execution_count": 4,
   "metadata": {},
   "outputs": [
    {
     "name": "stdout",
     "output_type": "stream",
     "text": [
      "This guy has 1 years of experience and he/she is paid 500 dollars\n",
      "This guy has 2 years of experience and he/she is paid 1000 dollars\n",
      "This guy has 5 years of experience and he/she is paid 2000 dollars\n",
      "This guy has 0.5 years of experience and he/she is paid 100 dollars\n"
     ]
    }
   ],
   "source": [
    "exprience = [1,    2,   5,   0.5] # years of experience\n",
    "salaries = [500, 1000, 2000, 100] # (label) salary\n",
    "\n",
    "for years, salary in zip(exprience , salaries):\n",
    "  print(f'This guy has {years} years of experience and he/she is paid {salary} dollars')"
   ]
  },
  {
   "cell_type": "code",
   "execution_count": 3,
   "metadata": {},
   "outputs": [
    {
     "name": "stdout",
     "output_type": "stream",
     "text": [
      "This guy has 1 years of experience and he/she is paid 500 dollars\n",
      "This guy has 2 years of experience and he/she is paid 1000 dollars\n",
      "This guy has 5 years of experience and he/she is paid 2000 dollars\n",
      "This guy has 0.5 years of experience and he/she is paid 100 dollars\n"
     ]
    }
   ],
   "source": [
    "exprience = [1,    2,   5,   0.5] # years of experience\n",
    "salaries = [500, 1000, 2000, 100] # (label) salary\n",
    "\n",
    "for pair in zip(exprience , salaries):\n",
    "  years = pair[0]\n",
    "  salary = pair[1]\n",
    "  print(f'This guy has {years} years of experience and he/she is paid {salary} dollars')"
   ]
  },
  {
   "cell_type": "markdown",
   "metadata": {
    "id": "929-FeDVHHjR"
   },
   "source": [
    "If the lists are different lengths, zip stops as soon as the first list ends."
   ]
  },
  {
   "cell_type": "code",
   "execution_count": 1,
   "metadata": {},
   "outputs": [
    {
     "name": "stdout",
     "output_type": "stream",
     "text": [
      "This guy has 1 years of experience and he/she is paid 500 dollars\n",
      "This guy has 2 years of experience and he/she is paid 1000 dollars\n",
      "This guy has 5 years of experience and he/she is paid 2000 dollars\n",
      "This guy has 0.5 years of experience and he/she is paid 100 dollars\n"
     ]
    }
   ],
   "source": [
    "exprience = [1,    2,   5,   0.5] # years of experience\n",
    "salaries = [500, 1000, 2000, 100, 99999, 889988] # (label) salary\n",
    "\n",
    "for pair in zip(exprience , salaries):\n",
    "  years = pair[0]\n",
    "  salary = pair[1]\n",
    "  print(f'This guy has {years} years of experience and he/she is paid {salary} dollars')"
   ]
  },
  {
   "cell_type": "code",
   "execution_count": 3,
   "metadata": {},
   "outputs": [
    {
     "data": {
      "text/plain": [
       "[(1, 500), (2, 1000), (5, 2000), (0.5, 100)]"
      ]
     },
     "execution_count": 3,
     "metadata": {},
     "output_type": "execute_result"
    }
   ],
   "source": [
    "list(zip(exprience , salaries))"
   ]
  },
  {
   "cell_type": "markdown",
   "metadata": {},
   "source": [
    "## 2.3 in/not in operator\n",
    "\n",
    "We've already seen the **in** keyword during the for loop, but we can also use it to quickly check if an object is in a list"
   ]
  },
  {
   "cell_type": "code",
   "execution_count": null,
   "metadata": {},
   "outputs": [
    {
     "data": {
      "text/plain": [
       "True"
      ]
     },
     "metadata": {},
     "output_type": "display_data"
    }
   ],
   "source": [
    "'x' in ['x','y','z']"
   ]
  },
  {
   "cell_type": "code",
   "execution_count": null,
   "metadata": {},
   "outputs": [
    {
     "data": {
      "text/plain": [
       "False"
      ]
     },
     "metadata": {},
     "output_type": "display_data"
    }
   ],
   "source": [
    "'x' in [1,2,3]"
   ]
  },
  {
   "cell_type": "code",
   "execution_count": null,
   "metadata": {},
   "outputs": [
    {
     "data": {
      "text/plain": [
       "False"
      ]
     },
     "metadata": {},
     "output_type": "display_data"
    }
   ],
   "source": [
    "'x' not in ['x','y','z']"
   ]
  },
  {
   "cell_type": "code",
   "execution_count": null,
   "metadata": {},
   "outputs": [
    {
     "data": {
      "text/plain": [
       "True"
      ]
     },
     "metadata": {},
     "output_type": "display_data"
    }
   ],
   "source": [
    "'x' not in [1,2,3]"
   ]
  },
  {
   "cell_type": "markdown",
   "metadata": {},
   "source": [
    "## 2.4 min and max\n",
    "\n",
    "Quickly check the minimum or maximum of a list with these functions."
   ]
  },
  {
   "cell_type": "code",
   "execution_count": 4,
   "metadata": {
    "collapsed": true
   },
   "outputs": [],
   "source": [
    "mylist = [10,20,30,40,100]"
   ]
  },
  {
   "cell_type": "code",
   "execution_count": 5,
   "metadata": {},
   "outputs": [
    {
     "data": {
      "text/plain": [
       "10"
      ]
     },
     "execution_count": 5,
     "metadata": {},
     "output_type": "execute_result"
    }
   ],
   "source": [
    "min(mylist)"
   ]
  },
  {
   "cell_type": "code",
   "execution_count": 6,
   "metadata": {},
   "outputs": [
    {
     "data": {
      "text/plain": [
       "100"
      ]
     },
     "execution_count": 6,
     "metadata": {},
     "output_type": "execute_result"
    }
   ],
   "source": [
    "max(mylist)\n"
   ]
  },
  {
   "cell_type": "code",
   "execution_count": null,
   "metadata": {},
   "outputs": [],
   "source": []
  },
  {
   "cell_type": "markdown",
   "metadata": {
    "id": "hHosW21M6YPu"
   },
   "source": [
    "## 2.5 Random"
   ]
  },
  {
   "cell_type": "markdown",
   "metadata": {
    "id": "fKjt_PhJDzAu"
   },
   "source": [
    "### ``random.random``\n",
    "- Return the next random floating point number in the range [0.0, 1.0)."
   ]
  },
  {
   "cell_type": "code",
   "execution_count": 5,
   "metadata": {
    "id": "DvQrHFLvFGB8"
   },
   "outputs": [],
   "source": [
    "import random"
   ]
  },
  {
   "cell_type": "code",
   "execution_count": 22,
   "metadata": {
    "colab": {
     "base_uri": "https://localhost:8080/"
    },
    "executionInfo": {
     "elapsed": 298,
     "status": "ok",
     "timestamp": 1626855447439,
     "user": {
      "displayName": "Quan Tran",
      "photoUrl": "",
      "userId": "11078860236930939203"
     },
     "user_tz": -420
    },
    "id": "HCiZm7cUikUW",
    "outputId": "e4887633-d48f-4737-a394-9402d3b15e29"
   },
   "outputs": [
    {
     "name": "stdout",
     "output_type": "stream",
     "text": [
      "0.8059243138245665\n"
     ]
    }
   ],
   "source": [
    "# Everytime run this code will generate the new float number from 0.0 to 1.0\n",
    "print(random.random())"
   ]
  },
  {
   "cell_type": "code",
   "execution_count": 7,
   "metadata": {
    "colab": {
     "base_uri": "https://localhost:8080/"
    },
    "executionInfo": {
     "elapsed": 287,
     "status": "ok",
     "timestamp": 1626855499804,
     "user": {
      "displayName": "Quan Tran",
      "photoUrl": "",
      "userId": "11078860236930939203"
     },
     "user_tz": -420
    },
    "id": "p8CkgjVRvktT",
    "outputId": "6a1de172-cf46-489f-8bbd-78d08d00ac6a"
   },
   "outputs": [
    {
     "name": "stdout",
     "output_type": "stream",
     "text": [
      "0.5712361859643625\n",
      "0.5377345819012004\n",
      "0.522582718011607\n",
      "0.6281375135386613\n",
      "0.2138941694622779\n"
     ]
    }
   ],
   "source": [
    "import random\n",
    "for _ in range(5):\n",
    "    print(random.random())"
   ]
  },
  {
   "cell_type": "markdown",
   "metadata": {
    "id": "mVwCNwHNGbyr"
   },
   "source": [
    "If you want to get reproducible results:"
   ]
  },
  {
   "cell_type": "code",
   "execution_count": 25,
   "metadata": {
    "colab": {
     "base_uri": "https://localhost:8080/"
    },
    "executionInfo": {
     "elapsed": 277,
     "status": "ok",
     "timestamp": 1626855755798,
     "user": {
      "displayName": "Quan Tran",
      "photoUrl": "",
      "userId": "11078860236930939203"
     },
     "user_tz": -420
    },
    "id": "gs1PBVC7MLQG",
    "outputId": "0d221493-f264-477f-d375-37d0a843aafd"
   },
   "outputs": [
    {
     "name": "stdout",
     "output_type": "stream",
     "text": [
      "0.5714025946899135\n"
     ]
    }
   ],
   "source": [
    "random.seed(10)         # Set seed to 10\n",
    "print(random.random())  # same result again"
   ]
  },
  {
   "cell_type": "code",
   "execution_count": 32,
   "metadata": {
    "colab": {
     "base_uri": "https://localhost:8080/"
    },
    "executionInfo": {
     "elapsed": 280,
     "status": "ok",
     "timestamp": 1626855656411,
     "user": {
      "displayName": "Quan Tran",
      "photoUrl": "",
      "userId": "11078860236930939203"
     },
     "user_tz": -420
    },
    "id": "g20DK4p-GV7L",
    "outputId": "d76011e5-3cde-4cba-fbf0-93fe7db3ce59"
   },
   "outputs": [
    {
     "name": "stdout",
     "output_type": "stream",
     "text": [
      "0.6394267984578837\n",
      "0.025010755222666936\n",
      "0.27502931836911926\n"
     ]
    }
   ],
   "source": [
    "random.seed(42)         # This ensures we get the same results every time\n",
    "print(random.random()) \n",
    "print(random.random()) \n",
    "print(random.random())"
   ]
  },
  {
   "cell_type": "markdown",
   "metadata": {
    "id": "SDA1FczQD3tm"
   },
   "source": [
    "### ``random.randrange``\n",
    "```\n",
    "random.randrange(stop)\n",
    "random.randrange(start, stop[, step])\n",
    "```\n",
    "- Return a randomly selected element from ``range(start, stop, step)``."
   ]
  },
  {
   "cell_type": "code",
   "execution_count": 41,
   "metadata": {
    "colab": {
     "base_uri": "https://localhost:8080/"
    },
    "executionInfo": {
     "elapsed": 2,
     "status": "ok",
     "timestamp": 1626855808124,
     "user": {
      "displayName": "Quan Tran",
      "photoUrl": "",
      "userId": "11078860236930939203"
     },
     "user_tz": -420
    },
    "id": "R-39-gnWGqrc",
    "outputId": "e314d056-44bd-440e-ef2e-12dd7aad8cb4"
   },
   "outputs": [
    {
     "name": "stdout",
     "output_type": "stream",
     "text": [
      "0\n"
     ]
    }
   ],
   "source": [
    "print(random.randrange(10))    # choose randomly from range(10) = [0, 1, ..., 9]"
   ]
  },
  {
   "cell_type": "code",
   "execution_count": 59,
   "metadata": {
    "colab": {
     "base_uri": "https://localhost:8080/"
    },
    "executionInfo": {
     "elapsed": 3,
     "status": "ok",
     "timestamp": 1626855872208,
     "user": {
      "displayName": "Quan Tran",
      "photoUrl": "",
      "userId": "11078860236930939203"
     },
     "user_tz": -420
    },
    "id": "zHByK0x-Eqjt",
    "outputId": "d14004af-21b3-4529-961e-2d0e17ecb3ec"
   },
   "outputs": [
    {
     "name": "stdout",
     "output_type": "stream",
     "text": [
      "3\n"
     ]
    }
   ],
   "source": [
    "print(random.randrange(3, 6))  # choose randomly from range(3, 6) = [3, 4, 5]"
   ]
  },
  {
   "cell_type": "code",
   "execution_count": 33,
   "metadata": {
    "colab": {
     "base_uri": "https://localhost:8080/"
    },
    "executionInfo": {
     "elapsed": 6,
     "status": "ok",
     "timestamp": 1626855966525,
     "user": {
      "displayName": "Quan Tran",
      "photoUrl": "",
      "userId": "11078860236930939203"
     },
     "user_tz": -420
    },
    "id": "QxNuaJYgK6ds",
    "outputId": "5e05905c-f01f-4b65-fe49-025875f45062"
   },
   "outputs": [
    {
     "name": "stdout",
     "output_type": "stream",
     "text": [
      "5\n"
     ]
    }
   ],
   "source": [
    "print(random.randint(3,5))"
   ]
  },
  {
   "cell_type": "markdown",
   "metadata": {
    "id": "8qUUnrHxFfYZ"
   },
   "source": [
    "### ``random.shuffle``"
   ]
  },
  {
   "cell_type": "markdown",
   "metadata": {
    "id": "7hYaytEWFPTe"
   },
   "source": [
    "``random.shuffle(x[, random])``\n",
    "Shuffle the sequence x in place.\n",
    "- The optional argument random is a 0-argument function returning a random float in [0.0, 1.0); by default, this is the function random()."
   ]
  },
  {
   "cell_type": "code",
   "execution_count": 12,
   "metadata": {
    "id": "BXZJDq6kGtOS"
   },
   "outputs": [
    {
     "data": {
      "text/plain": [
       "[1, 2, 3, 4, 5, 6, 7, 8, 9, 10]"
      ]
     },
     "execution_count": 12,
     "metadata": {},
     "output_type": "execute_result"
    }
   ],
   "source": [
    "list1 = [1, 2, 3, 4, 5, 6, 7, 8, 9, 10]\n",
    "list1"
   ]
  },
  {
   "cell_type": "code",
   "execution_count": 17,
   "metadata": {
    "id": "46ghLOMXL6oa"
   },
   "outputs": [
    {
     "data": {
      "text/plain": [
       "[6, 9, 5, 10, 3, 4, 8, 2, 7, 1]"
      ]
     },
     "execution_count": 17,
     "metadata": {},
     "output_type": "execute_result"
    }
   ],
   "source": [
    "# Shuffle the list\n",
    "random.shuffle(list1)\n",
    "list1"
   ]
  },
  {
   "cell_type": "markdown",
   "metadata": {
    "id": "6lB0tjhTGj08"
   },
   "source": [
    "###  ``random.choice(seq)``\n",
    "- Return a random element from the non-empty sequence seq. "
   ]
  },
  {
   "cell_type": "code",
   "execution_count": 8,
   "metadata": {
    "colab": {
     "base_uri": "https://localhost:8080/",
     "height": 35
    },
    "executionInfo": {
     "elapsed": 286,
     "status": "ok",
     "timestamp": 1626856382963,
     "user": {
      "displayName": "Quan Tran",
      "photoUrl": "",
      "userId": "11078860236930939203"
     },
     "user_tz": -420
    },
    "id": "2PbeoqYfGv2o",
    "outputId": "7a1154e7-f8d9-4a39-cc34-ce727d9c14a9"
   },
   "outputs": [
    {
     "data": {
      "text/plain": [
       "'Bánh cuốn'"
      ]
     },
     "execution_count": 8,
     "metadata": {},
     "output_type": "execute_result"
    }
   ],
   "source": [
    "# If you don't know what you want to eat tonight: :)\n",
    "my_dinner = random.choice([\"Gà rán\", \"Cơm tấm\", \"Bánh cuốn\", \"Bún Bò\", \"Mì Quảng\"])\n",
    "my_dinner"
   ]
  },
  {
   "cell_type": "code",
   "execution_count": 9,
   "metadata": {},
   "outputs": [
    {
     "data": {
      "text/plain": [
       "['Bún Bò', 'Gà rán', 'Bánh cuốn']"
      ]
     },
     "execution_count": 9,
     "metadata": {},
     "output_type": "execute_result"
    }
   ],
   "source": [
    "# Random.choices:\n",
    "random.choices([\"Gà rán\", \"Cơm tấm\", \"Bánh cuốn\", \"Bún Bò\", \"Mì Quảng\"], k = 3)"
   ]
  },
  {
   "attachments": {},
   "cell_type": "markdown",
   "metadata": {
    "id": "d2n4Pn-7GxLg"
   },
   "source": [
    "### ``random.sample(population, k, *, counts=None)``\n",
    "- Return a k length list of unique elements chosen from the population sequence or set. Used for random sampling without replacement."
   ]
  },
  {
   "cell_type": "code",
   "execution_count": 3,
   "metadata": {
    "id": "CVnv54dOG4RD"
   },
   "outputs": [
    {
     "data": {
      "text/plain": [
       "[0, 1, 2, 3, 4, 5, 6, 7, 8, 9]"
      ]
     },
     "execution_count": 3,
     "metadata": {},
     "output_type": "execute_result"
    }
   ],
   "source": [
    "lottery_numbers = range(10)\n",
    "list(lottery_numbers)"
   ]
  },
  {
   "cell_type": "code",
   "execution_count": 14,
   "metadata": {
    "colab": {
     "base_uri": "https://localhost:8080/"
    },
    "executionInfo": {
     "elapsed": 7,
     "status": "ok",
     "timestamp": 1626856654826,
     "user": {
      "displayName": "Quan Tran",
      "photoUrl": "",
      "userId": "11078860236930939203"
     },
     "user_tz": -420
    },
    "id": "4VqVGZuWHMs-",
    "outputId": "2ac1c901-d077-4ba4-9899-e87cedccde6c"
   },
   "outputs": [
    {
     "data": {
      "text/plain": [
       "[2, 9, 8, 3, 0]"
      ]
     },
     "execution_count": 14,
     "metadata": {},
     "output_type": "execute_result"
    }
   ],
   "source": [
    "winning_numbers = random.sample(lottery_numbers, 5)\n",
    "winning_numbers"
   ]
  },
  {
   "cell_type": "code",
   "execution_count": 62,
   "metadata": {},
   "outputs": [
    {
     "data": {
      "text/plain": [
       "[6, 8, 2, 8, 0]"
      ]
     },
     "execution_count": 62,
     "metadata": {},
     "output_type": "execute_result"
    }
   ],
   "source": [
    "random.choices(lottery_numbers, k = 5)"
   ]
  },
  {
   "attachments": {},
   "cell_type": "markdown",
   "metadata": {},
   "source": [
    "> ✳️Note: `random.sample()` will randomly take out a list of k numbers and **WITHOUT DUPLICATED**, on the other hand, `random.choices()` also randomly return list of k values but the values can be **REPEATED**."
   ]
  },
  {
   "cell_type": "code",
   "execution_count": 50,
   "metadata": {
    "colab": {
     "base_uri": "https://localhost:8080/",
     "height": 325
    },
    "executionInfo": {
     "elapsed": 312,
     "status": "error",
     "timestamp": 1626856760494,
     "user": {
      "displayName": "Quan Tran",
      "photoUrl": "",
      "userId": "11078860236930939203"
     },
     "user_tz": -420
    },
    "id": "lbAZ5pt2HWvq",
    "outputId": "9224cfd9-985c-4b56-90ef-833846235355"
   },
   "outputs": [
    {
     "ename": "ValueError",
     "evalue": "Sample larger than population or is negative",
     "output_type": "error",
     "traceback": [
      "\u001b[1;31m---------------------------------------------------------------------------\u001b[0m",
      "\u001b[1;31mValueError\u001b[0m                                Traceback (most recent call last)",
      "Cell \u001b[1;32mIn[50], line 2\u001b[0m\n\u001b[0;32m      1\u001b[0m \u001b[39m# Question: What should happen if we do this?\u001b[39;00m\n\u001b[1;32m----> 2\u001b[0m winning_numbers \u001b[39m=\u001b[39m random\u001b[39m.\u001b[39;49msample(\u001b[39mrange\u001b[39;49m(\u001b[39m10\u001b[39;49m), \u001b[39m11\u001b[39;49m)\n\u001b[0;32m      3\u001b[0m winning_numbers\n",
      "File \u001b[1;32mc:\\Users\\Lenovo\\anaconda3\\envs\\DS\\lib\\random.py:449\u001b[0m, in \u001b[0;36mRandom.sample\u001b[1;34m(self, population, k, counts)\u001b[0m\n\u001b[0;32m    447\u001b[0m randbelow \u001b[39m=\u001b[39m \u001b[39mself\u001b[39m\u001b[39m.\u001b[39m_randbelow\n\u001b[0;32m    448\u001b[0m \u001b[39mif\u001b[39;00m \u001b[39mnot\u001b[39;00m \u001b[39m0\u001b[39m \u001b[39m<\u001b[39m\u001b[39m=\u001b[39m k \u001b[39m<\u001b[39m\u001b[39m=\u001b[39m n:\n\u001b[1;32m--> 449\u001b[0m     \u001b[39mraise\u001b[39;00m \u001b[39mValueError\u001b[39;00m(\u001b[39m\"\u001b[39m\u001b[39mSample larger than population or is negative\u001b[39m\u001b[39m\"\u001b[39m)\n\u001b[0;32m    450\u001b[0m result \u001b[39m=\u001b[39m [\u001b[39mNone\u001b[39;00m] \u001b[39m*\u001b[39m k\n\u001b[0;32m    451\u001b[0m setsize \u001b[39m=\u001b[39m \u001b[39m21\u001b[39m        \u001b[39m# size of a small set minus size of an empty list\u001b[39;00m\n",
      "\u001b[1;31mValueError\u001b[0m: Sample larger than population or is negative"
     ]
    }
   ],
   "source": [
    "# Question: What should happen if we do this?\n",
    "# Note: k must be smaller than length of list\n",
    "winning_numbers = random.sample(range(10), 11)\n",
    "winning_numbers"
   ]
  },
  {
   "attachments": {},
   "cell_type": "markdown",
   "metadata": {},
   "source": [
    "## 2.6. Loop in string"
   ]
  },
  {
   "cell_type": "code",
   "execution_count": 68,
   "metadata": {},
   "outputs": [
    {
     "name": "stdout",
     "output_type": "stream",
     "text": [
      "I_t_'_s_ _b_e_a_u_t_i_f_u_l_ _d_a_y_!_"
     ]
    }
   ],
   "source": [
    "text = \"It's beautiful day!\"\n",
    "for t in text:\n",
    "    print(t, end='_')"
   ]
  },
  {
   "cell_type": "code",
   "execution_count": 92,
   "metadata": {},
   "outputs": [
    {
     "data": {
      "text/plain": [
       "\"IT's beauTiful day!\""
      ]
     },
     "execution_count": 92,
     "metadata": {},
     "output_type": "execute_result"
    }
   ],
   "source": [
    "# Replace a specific values in string:\n",
    "text.replace('t', 'T')"
   ]
  },
  {
   "cell_type": "code",
   "execution_count": 93,
   "metadata": {},
   "outputs": [
    {
     "data": {
      "text/plain": [
       "\"It's beautiful DAY!\""
      ]
     },
     "execution_count": 93,
     "metadata": {},
     "output_type": "execute_result"
    }
   ],
   "source": [
    "text.replace('day', 'DAY')"
   ]
  },
  {
   "cell_type": "code",
   "execution_count": 94,
   "metadata": {},
   "outputs": [
    {
     "data": {
      "text/plain": [
       "\"IT's beautiful day!\""
      ]
     },
     "execution_count": 94,
     "metadata": {},
     "output_type": "execute_result"
    }
   ],
   "source": [
    "# Replace a specific value in string by using index: \n",
    "# Example we just want to replace \"t\" at index 1 to \"T\"\n",
    "\n",
    "# 1st step, convert string to list:\n",
    "lst_text = list(text)\n",
    "# 2nd step, replace the \"t\" with index 1\n",
    "lst_text[1] = 'T'\n",
    "# 3rd step, join text list into text:\n",
    "text2 = ''.join(lst_text)\n",
    "text2"
   ]
  },
  {
   "attachments": {},
   "cell_type": "markdown",
   "metadata": {},
   "source": [
    "## 🤔 CHALLENGE! HANGMAN GAME\n",
    "\n",
    "<img src=\"https://image.shutterstock.com/image-vector/hang-man-game-handdrawn-on-260nw-1404275375.jpg\" width=\"400\">\n",
    "\n",
    "**GAME RULES**\n",
    "+ The program will randomly select 1 word from the list of given words and display the number of letters of selected word.\n",
    "+ For each word, the player has **7 wrong guesses**. If you guess more than 7 times wrong, you will lose\n",
    "+ The game will end when:\n",
    "     + Player wins (guess all letters correctly)\n",
    "     + Player has touched 7 times wrong guess\n",
    "     + Player enters \"exit\""
   ]
  },
  {
   "cell_type": "code",
   "execution_count": 49,
   "metadata": {},
   "outputs": [],
   "source": [
    "\n",
    "data = {\n",
    "  'stages': ['''\n",
    "      +---+\n",
    "      |   |\n",
    "      O   |\n",
    "    /|\\  |\n",
    "    / \\  |\n",
    "          |\n",
    "    =========\n",
    "    ''', '''\n",
    "      +---+\n",
    "      |   |\n",
    "      O   |\n",
    "    /|\\  |\n",
    "    /    |\n",
    "          |\n",
    "    =========\n",
    "    ''', '''\n",
    "      +---+\n",
    "      |   |\n",
    "      O   |\n",
    "    /|\\  |\n",
    "          |\n",
    "          |\n",
    "    =========\n",
    "    ''', '''\n",
    "      +---+\n",
    "      |   |\n",
    "      O   |\n",
    "    /|   |\n",
    "          |\n",
    "          |\n",
    "    =========''', '''\n",
    "      +---+\n",
    "      |   |\n",
    "      O   |\n",
    "      |   |\n",
    "          |\n",
    "          |\n",
    "    =========\n",
    "    ''', '''\n",
    "      +---+\n",
    "      |   |\n",
    "      O   |\n",
    "          |\n",
    "          |\n",
    "          |\n",
    "    =========\n",
    "    ''', '''\n",
    "      +---+\n",
    "      |   |\n",
    "          |\n",
    "          |\n",
    "          |\n",
    "          |\n",
    "    =========\n",
    "    '''],\n",
    "    'words': ['affix', 'vodka', 'peekaboo', 'jinx', 'psyche', 'frizzled', 'jaywalk', 'jogging', 'crypt', 'ivy', 'wavy', 'khaki', 'ivory', 'pneumonia', 'vortex']\n",
    "\n",
    "}\n"
   ]
  },
  {
   "cell_type": "code",
   "execution_count": 50,
   "metadata": {},
   "outputs": [
    {
     "data": {
      "text/plain": [
       "{'stages': ['\\n      +---+\\n      |   |\\n      O   |\\n    /|\\\\  |\\n    / \\\\  |\\n          |\\n    =========\\n    ',\n",
       "  '\\n      +---+\\n      |   |\\n      O   |\\n    /|\\\\  |\\n    /    |\\n          |\\n    =========\\n    ',\n",
       "  '\\n      +---+\\n      |   |\\n      O   |\\n    /|\\\\  |\\n          |\\n          |\\n    =========\\n    ',\n",
       "  '\\n      +---+\\n      |   |\\n      O   |\\n    /|   |\\n          |\\n          |\\n    =========',\n",
       "  '\\n      +---+\\n      |   |\\n      O   |\\n      |   |\\n          |\\n          |\\n    =========\\n    ',\n",
       "  '\\n      +---+\\n      |   |\\n      O   |\\n          |\\n          |\\n          |\\n    =========\\n    ',\n",
       "  '\\n      +---+\\n      |   |\\n          |\\n          |\\n          |\\n          |\\n    =========\\n    '],\n",
       " 'words': ['affix',\n",
       "  'vodka',\n",
       "  'peekaboo',\n",
       "  'jinx',\n",
       "  'psyche',\n",
       "  'frizzled',\n",
       "  'jaywalk',\n",
       "  'jogging',\n",
       "  'crypt',\n",
       "  'ivy',\n",
       "  'wavy',\n",
       "  'khaki',\n",
       "  'ivory',\n",
       "  'pneumonia',\n",
       "  'vortex']}"
      ]
     },
     "execution_count": 50,
     "metadata": {},
     "output_type": "execute_result"
    }
   ],
   "source": [
    "# Your code here:\n",
    "data"
   ]
  },
  {
   "attachments": {},
   "cell_type": "markdown",
   "metadata": {},
   "source": [
    "#### 👉 Hints"
   ]
  },
  {
   "cell_type": "code",
   "execution_count": 51,
   "metadata": {},
   "outputs": [],
   "source": [
    "# Import libraries:\n",
    "from IPython.display import clear_output \n",
    "import random"
   ]
  },
  {
   "cell_type": "code",
   "execution_count": 52,
   "metadata": {},
   "outputs": [
    {
     "name": "stdout",
     "output_type": "stream",
     "text": [
      "selected word range(0, 6)\n",
      "show word range(0, 6)\n"
     ]
    }
   ],
   "source": [
    "# Hint 1: Randomly choice a single word in list of words that was contained in data dictionary\n",
    "selected_word = ___ #your code here\n",
    "\n",
    "# Hint 2: Assign to variable show_word the number of \"_\" equal to the length of selected_word\n",
    "# Example: selected_word = 'khaki' then the value of show_word is: '_____' (5 times of \"_\") since len(khaki) = 5.\n",
    "show_word = ___ #your code here\n",
    "\n",
    "# Test:\n",
    "print('selected word', selected_word)\n",
    "print('show word', show_word)\n"
   ]
  },
  {
   "cell_type": "code",
   "execution_count": null,
   "metadata": {},
   "outputs": [],
   "source": [
    "# Set initial value for variable below:\n",
    "dead_count = 0      # Everytime the player guesses wrong, \"dead_count\" increase by 1\n",
    "                    # This dead_count also use to indicate the state of hangman\n",
    "\n",
    "player_ip = ''      # This variable contains player input\n",
    "\n",
    "# Hint 3: This while loop will active when all 3 conditions below are true:\n",
    "# + Quantity of wrong guess below 7\n",
    "# + The player has not guessed all letters in selected_word\n",
    "# + Player not input: \"exit\"\n",
    "while ___ #your code here:\n",
    "    \n",
    "    print( 'HANGMAN GAME!' )\n",
    "    print( f'Our word has {len(selected_word)} letters')\n",
    "    print( show_word )\n",
    "\n",
    "    # print( selected_word )\n",
    "\n",
    "    # Hint 4: Show the number of remaining times player can guess incorrectly\n",
    "    print( f'Use still {___ #your code here} times left!')\n",
    "\n",
    "    # Hint 5: Show \"state\" of hangman.\n",
    "    print(___ #your code here)\n",
    "    \n",
    "    # Hint 6: Let's player input your guess and convert their input to lowercase\n",
    "    player_ip = ___ #your code here\n",
    "\n",
    "    # Hint 7: Check if the player's guessed letter is in the selected_word or not:\n",
    "    # + If player's guessed letter is in selected_word, we will replace all\n",
    "    #   positions of that word in show_word with corresponding position in selected_word\n",
    "    #   Example: selected_word = 'khaki' and player guesses is: 'k' then show_word should be: 'k__k_'\n",
    "    # + If player's guessed letter is NOT in selected_word, dead_count will inrease by 1\n",
    "\n",
    "    if player_ip in ___ #your code here:\n",
    "        # Hint 8: loop through every selected_word and we get pair of index and letter of selected_word:\n",
    "        for i, letter in ___ #your code here:\n",
    "            if letter == player_ip:\n",
    "                # Hint 9: Replace corresponding position in show_word:\n",
    "                ___ #your code here\n",
    "        \n",
    "        # Hint 9: Check if the player has guessed all the letters correctly, we will exit the loop\n",
    "        if show_word == selected_word:\n",
    "            ___ #your code here\n",
    "    else:\n",
    "        # Hint 10: dead_count will inrease by 1\n",
    "        ___ #your code here\n",
    "\n",
    "    # Clear screen:\n",
    "    clear_output(wait=True)\n",
    "\n",
    "# Check if player WIN or LOSE, Player win when dead_count < 7 and player not input 'exit', else player lose\n",
    "if ___ #your code here:\n",
    "    print(f'YOU WIN! OUR WORD IS: {show_word}')\n",
    "else:\n",
    "    print('YOU LOSE! :\"(')\n",
    "        "
   ]
  },
  {
   "cell_type": "markdown",
   "metadata": {
    "collapsed": true
   },
   "source": [
    "# 3 - List Comprehensions\n"
   ]
  },
  {
   "cell_type": "code",
   "execution_count": 121,
   "metadata": {},
   "outputs": [
    {
     "data": {
      "text/plain": [
       "['Y', 'o', 'u', ' ', 'a', 'r', 'e', ' ', 'g', 'r', 'e', 'a', 't']"
      ]
     },
     "execution_count": 121,
     "metadata": {},
     "output_type": "execute_result"
    }
   ],
   "source": [
    "# Normal way:\n",
    "lst = []\n",
    "for x in 'You are great':\n",
    "    lst.append(x)\n",
    "lst"
   ]
  },
  {
   "cell_type": "code",
   "execution_count": 123,
   "metadata": {
    "collapsed": true
   },
   "outputs": [
    {
     "data": {
      "text/plain": [
       "['Y', 'o', 'u', ' ', 'a', 'r', 'e', ' ', 'g', 'r', 'e', 'a', 't', '!']"
      ]
     },
     "execution_count": 123,
     "metadata": {},
     "output_type": "execute_result"
    }
   ],
   "source": [
    "# Professional way\n",
    "lst = [x for x in 'You are great!']\n",
    "lst"
   ]
  },
  {
   "cell_type": "code",
   "execution_count": 116,
   "metadata": {
    "collapsed": true
   },
   "outputs": [
    {
     "data": {
      "text/plain": [
       "[0, 1, 4, 9, 16, 25, 36, 49, 64, 81, 100]"
      ]
     },
     "execution_count": 116,
     "metadata": {},
     "output_type": "execute_result"
    }
   ],
   "source": [
    "# Square numbers in range and turn into list\n",
    "lst = [x**2 for x in range(0,11)]\n",
    "lst"
   ]
  },
  {
   "cell_type": "code",
   "execution_count": 117,
   "metadata": {
    "collapsed": true
   },
   "outputs": [
    {
     "data": {
      "text/plain": [
       "[0, 2, 4, 6, 8, 10]"
      ]
     },
     "execution_count": 117,
     "metadata": {},
     "output_type": "execute_result"
    }
   ],
   "source": [
    "# Check for even numbers in a range\n",
    "lst = [x for x in range(11) if x % 2 == 0]\n",
    "lst\n"
   ]
  },
  {
   "cell_type": "code",
   "execution_count": 1,
   "metadata": {},
   "outputs": [
    {
     "data": {
      "text/plain": [
       "[0, 8, 24]"
      ]
     },
     "execution_count": 1,
     "metadata": {},
     "output_type": "execute_result"
    }
   ],
   "source": [
    "# Nested\n",
    "lst_a = [1, 3, 5]\n",
    "\n",
    "lst = [x - 1 for x in [x**2 for x in lst_a]]\n",
    "lst"
   ]
  },
  {
   "cell_type": "markdown",
   "metadata": {},
   "source": [
    "# 😏 CHALLENGE!"
   ]
  },
  {
   "attachments": {},
   "cell_type": "markdown",
   "metadata": {},
   "source": [
    "**Ex1: Use <code>for</code>, `.split()`, and <code>if</code> to create a `list` contains all words that start with 's' in 1 line code:**"
   ]
  },
  {
   "cell_type": "code",
   "execution_count": 74,
   "metadata": {
    "collapsed": true
   },
   "outputs": [],
   "source": [
    "st = 'Print only the words that start with s in this sentence'"
   ]
  },
  {
   "cell_type": "code",
   "execution_count": 75,
   "metadata": {
    "collapsed": true
   },
   "outputs": [
    {
     "data": {
      "text/plain": [
       "['start', 's', 'sentence']"
      ]
     },
     "execution_count": 75,
     "metadata": {},
     "output_type": "execute_result"
    }
   ],
   "source": [
    "#Code here\n",
    "[s for s in st.split(\" \") if s[0] == 's']\n"
   ]
  },
  {
   "cell_type": "markdown",
   "metadata": {},
   "source": [
    "**Ex2: Use range() to print all the even numbers from 0 to 10 in 1 line code.**"
   ]
  },
  {
   "cell_type": "code",
   "execution_count": 76,
   "metadata": {
    "collapsed": true
   },
   "outputs": [
    {
     "data": {
      "text/plain": [
       "[0, 2, 4, 6, 8, 10]"
      ]
     },
     "execution_count": 76,
     "metadata": {},
     "output_type": "execute_result"
    }
   ],
   "source": [
    "[x for x in range(0, 11, 2)]"
   ]
  },
  {
   "cell_type": "markdown",
   "metadata": {},
   "source": [
    "**Ex3: Go through the string below and return the list of words have length is even in 1 line code**"
   ]
  },
  {
   "cell_type": "code",
   "execution_count": 67,
   "metadata": {},
   "outputs": [],
   "source": [
    "st = 'Print every word in this sentence that has an even number of letters'"
   ]
  },
  {
   "cell_type": "code",
   "execution_count": 2,
   "metadata": {},
   "outputs": [
    {
     "ename": "NameError",
     "evalue": "name 'st' is not defined",
     "output_type": "error",
     "traceback": [
      "\u001b[1;31m---------------------------------------------------------------------------\u001b[0m",
      "\u001b[1;31mNameError\u001b[0m                                 Traceback (most recent call last)",
      "\u001b[1;32m~\\AppData\\Local\\Temp\\ipykernel_16604\\279452912.py\u001b[0m in \u001b[0;36m<module>\u001b[1;34m\u001b[0m\n\u001b[1;32m----> 1\u001b[1;33m \u001b[1;33m[\u001b[0m\u001b[0ms\u001b[0m \u001b[1;32mfor\u001b[0m \u001b[0ms\u001b[0m \u001b[1;32min\u001b[0m \u001b[0mst\u001b[0m\u001b[1;33m.\u001b[0m\u001b[0msplit\u001b[0m\u001b[1;33m(\u001b[0m\u001b[1;34m\" \"\u001b[0m\u001b[1;33m)\u001b[0m \u001b[1;32mif\u001b[0m \u001b[0mlen\u001b[0m\u001b[1;33m(\u001b[0m\u001b[0ms\u001b[0m\u001b[1;33m)\u001b[0m \u001b[1;33m%\u001b[0m \u001b[1;36m2\u001b[0m \u001b[1;33m==\u001b[0m \u001b[1;36m0\u001b[0m\u001b[1;33m]\u001b[0m\u001b[1;33m\u001b[0m\u001b[1;33m\u001b[0m\u001b[0m\n\u001b[0m",
      "\u001b[1;31mNameError\u001b[0m: name 'st' is not defined"
     ]
    }
   ],
   "source": [
    "[s for s in st.split(\" \") if len(s) % 2 == 0]"
   ]
  }
 ],
 "metadata": {
  "kernelspec": {
   "display_name": "base",
   "language": "python",
   "name": "python3"
  },
  "language_info": {
   "codemirror_mode": {
    "name": "ipython",
    "version": 3
   },
   "file_extension": ".py",
   "mimetype": "text/x-python",
   "name": "python",
   "nbconvert_exporter": "python",
   "pygments_lexer": "ipython3",
   "version": "3.9.13 (main, Aug 25 2022, 23:51:50) [MSC v.1916 64 bit (AMD64)]"
  },
  "orig_nbformat": 4,
  "vscode": {
   "interpreter": {
    "hash": "418291e1de3955cfa7a11c463da689aa6aaa0b527a942b06b336a1db2fe0c421"
   }
  }
 },
 "nbformat": 4,
 "nbformat_minor": 2
}
