{
 "cells": [
  {
   "cell_type": "markdown",
   "metadata": {},
   "source": [
    "# 1 - Functions\n"
   ]
  },
  {
   "cell_type": "markdown",
   "metadata": {},
   "source": [
    "A function is a named sequence of statements that belong together. Their primary purpose is to help us organize programs into chunks that match how we think about the problem.\n",
    "\n",
    ">**Two kinds of functions in Python.**\n",
    ">\n",
    "> + **Built-in functions** that are provided as part of Python: print(), input(), type(), float(), int() ...\n",
    "> + **Functions** that **we define** ourselves and then use.\n",
    ">    \n"
   ]
  },
  {
   "cell_type": "code",
   "execution_count": 1,
   "metadata": {},
   "outputs": [
    {
     "name": "stdout",
     "output_type": "stream",
     "text": [
      "Hello\n",
      "5\n"
     ]
    }
   ],
   "source": [
    "print('Hello')\n",
    "string_len = len('Hello')\n",
    "print(string_len)"
   ]
  },
  {
   "cell_type": "markdown",
   "metadata": {},
   "source": [
    "**Syntax for a function definition is:**\n",
    "```py\n",
    "def function_name(parameters):\n",
    "    statements\n",
    "```"
   ]
  },
  {
   "cell_type": "code",
   "execution_count": 7,
   "metadata": {
    "collapsed": true
   },
   "outputs": [],
   "source": [
    "# Create the first function:\n",
    "def greeting():\n",
    "    print('hello')\n",
    "    print('You are awesome!')"
   ]
  },
  {
   "cell_type": "code",
   "execution_count": 8,
   "metadata": {},
   "outputs": [
    {
     "name": "stdout",
     "output_type": "stream",
     "text": [
      "hello\n",
      "You are awesome!\n"
     ]
    }
   ],
   "source": [
    "# Call function\n",
    "greeting()"
   ]
  },
  {
   "cell_type": "markdown",
   "metadata": {},
   "source": [
    "**Function parameters**\n",
    "\n",
    "With parameters, functions are even more powerful, because they can do pretty much the same thing on each invocation, but not exactly the same thing."
   ]
  },
  {
   "cell_type": "code",
   "execution_count": 9,
   "metadata": {
    "collapsed": true
   },
   "outputs": [],
   "source": [
    "def greeting(name):\n",
    "    print(f'Hello {name}')\n",
    "    print('You are awesome!')"
   ]
  },
  {
   "cell_type": "code",
   "execution_count": 5,
   "metadata": {},
   "outputs": [
    {
     "name": "stdout",
     "output_type": "stream",
     "text": [
      "Hello Nam\n",
      "You are awesome!\n"
     ]
    }
   ],
   "source": [
    "greeting('Nam')"
   ]
  },
  {
   "cell_type": "code",
   "execution_count": 12,
   "metadata": {},
   "outputs": [
    {
     "name": "stdout",
     "output_type": "stream",
     "text": [
      "Hello Hoa\n",
      "You are awesome!\n",
      "===============\n",
      "Hello Nam\n",
      "You are awesome!\n",
      "===============\n",
      "Hello Trúc\n",
      "You are awesome!\n",
      "===============\n"
     ]
    }
   ],
   "source": [
    "names = ['Hoa', 'Nam', 'Trúc']\n",
    "for name in names:\n",
    "    greeting(name)\n",
    "    print('='*15)"
   ]
  },
  {
   "cell_type": "markdown",
   "metadata": {},
   "source": [
    "**Using return**\n",
    "\n",
    "Not only can you pass a parameter value into a function, a function can also produce a value.\n",
    "\n",
    "+ Functions that return values are sometimes called **fruitful functions.**\n",
    "+ Function that doesn’t return a value is called **void(non-fruiful )-function**\n"
   ]
  },
  {
   "cell_type": "code",
   "execution_count": 2,
   "metadata": {},
   "outputs": [],
   "source": [
    "# Giải phương trình: y = x^2 - 2x + 1\n",
    "def f(x):\n",
    "    y = x**2 - 2*x + 1\n",
    "    return y\n"
   ]
  },
  {
   "cell_type": "code",
   "execution_count": 4,
   "metadata": {},
   "outputs": [
    {
     "name": "stdout",
     "output_type": "stream",
     "text": [
      "kết quả của phương trình là: 1\n"
     ]
    }
   ],
   "source": [
    "result = f(x = 2)\n",
    "print(f'kết quả của phương trình là: {result}')"
   ]
  },
  {
   "cell_type": "markdown",
   "metadata": {},
   "source": [
    "**Variables, parameters are local; global variables**\n",
    "\n",
    "Each call of the function creates new local variables, and their lifetimes expire when the function returns to the caller.\n",
    "\n",
    "+ **Local variable** and **parameters** only **exists inside the function** and you cannot use it outside\n",
    "+ **Variable names** that are **at the top-level**, not inside any function definition, are called **global variable.**"
   ]
  },
  {
   "cell_type": "code",
   "execution_count": 4,
   "metadata": {},
   "outputs": [
    {
     "data": {
      "text/plain": [
       "14"
      ]
     },
     "execution_count": 4,
     "metadata": {},
     "output_type": "execute_result"
    }
   ],
   "source": [
    "# Giải phương trình: y = 2x + b\n",
    "\n",
    "b = 10\n",
    "def f(x):\n",
    "    y = 2*x + b\n",
    "    return y\n",
    "\n",
    "f(x = 2)"
   ]
  },
  {
   "cell_type": "code",
   "execution_count": 8,
   "metadata": {},
   "outputs": [
    {
     "name": "stdout",
     "output_type": "stream",
     "text": [
      "10\n"
     ]
    },
    {
     "ename": "NameError",
     "evalue": "name 'y' is not defined",
     "output_type": "error",
     "traceback": [
      "\u001b[1;31m---------------------------------------------------------------------------\u001b[0m",
      "\u001b[1;31mNameError\u001b[0m                                 Traceback (most recent call last)",
      "Cell \u001b[1;32mIn [8], line 3\u001b[0m\n\u001b[0;32m      1\u001b[0m \u001b[39m# Ta thử print b và y:\u001b[39;00m\n\u001b[0;32m      2\u001b[0m \u001b[39mprint\u001b[39m(b)\n\u001b[1;32m----> 3\u001b[0m \u001b[39mprint\u001b[39m(y)\n\u001b[0;32m      5\u001b[0m \u001b[39m# b is global variable\u001b[39;00m\n\u001b[0;32m      6\u001b[0m \u001b[39m# y is local variable since we can not use \"y\" outside of the function\u001b[39;00m\n",
      "\u001b[1;31mNameError\u001b[0m: name 'y' is not defined"
     ]
    }
   ],
   "source": [
    "# Ta thử print b và y:\n",
    "print(b)\n",
    "print(y)\n",
    "\n",
    "# b is global variable\n",
    "# y is local variable since we can not use \"y\" outside of the function"
   ]
  },
  {
   "cell_type": "markdown",
   "metadata": {},
   "source": [
    "**Functions can call other functions**\n",
    "\n",
    "One of the most important ways that computer programmers take a large problem and **break it down into a group of smaller problems.**\n",
    "\n",
    "+ Each of the functions we write can be used and called from other functions we write.\n",
    "+ **Functional decomposition** is process of breaking a problem into smaller subproblems"
   ]
  },
  {
   "cell_type": "code",
   "execution_count": 12,
   "metadata": {},
   "outputs": [],
   "source": [
    "def square(x):\n",
    "    '''\n",
    "    Calculate the area of square\n",
    "    '''\n",
    "    y = x * x\n",
    "    return y\n",
    "\n",
    "\n",
    "def sum_of_squares(x,y,z):\n",
    "    '''\n",
    "    Calculate sum of area of 3 squares\n",
    "    '''\n",
    "    a = square(x)\n",
    "    b = square(y)\n",
    "    c = square(z)\n",
    "    return a + b + c"
   ]
  },
  {
   "cell_type": "code",
   "execution_count": 13,
   "metadata": {},
   "outputs": [
    {
     "data": {
      "text/plain": [
       "134"
      ]
     },
     "execution_count": 13,
     "metadata": {},
     "output_type": "execute_result"
    }
   ],
   "source": [
    "sum_of_squares(5, 10, 3)"
   ]
  },
  {
   "attachments": {},
   "cell_type": "markdown",
   "metadata": {},
   "source": [
    "+ Function in function:"
   ]
  },
  {
   "cell_type": "code",
   "execution_count": null,
   "metadata": {},
   "outputs": [],
   "source": []
  },
  {
   "cell_type": "markdown",
   "metadata": {},
   "source": [
    "## **❓CHALLENGE FOR YOU!**\n"
   ]
  },
  {
   "attachments": {},
   "cell_type": "markdown",
   "metadata": {},
   "source": [
    "#### Ex1: Write a Python function to find the Max of 2 numbers:\n",
    "```\n",
    "Example:\n",
    "+ Input: max_of_two(3, 7)\n",
    "+ Output: 7\n",
    "```"
   ]
  },
  {
   "cell_type": "code",
   "execution_count": 16,
   "metadata": {},
   "outputs": [
    {
     "data": {
      "text/plain": [
       "111"
      ]
     },
     "execution_count": 16,
     "metadata": {},
     "output_type": "execute_result"
    }
   ],
   "source": [
    "# Your code here\n"
   ]
  },
  {
   "attachments": {},
   "cell_type": "markdown",
   "metadata": {},
   "source": [
    "#### Ex2: Write a function to find the max of 3 numbers:\n",
    "```\n",
    "Example:\n",
    "+ Input: max_of_three(3, 7, 5.4)\n",
    "+ Output: 7\n",
    "```"
   ]
  },
  {
   "cell_type": "code",
   "execution_count": 1,
   "metadata": {},
   "outputs": [],
   "source": [
    "# Your code here\n"
   ]
  },
  {
   "attachments": {},
   "cell_type": "markdown",
   "metadata": {},
   "source": [
    "#### Ex3: Write a Python function to sum all the numbers in a list\n",
    "+ Input: [2, 4, 6]\n",
    "+ Output: 12"
   ]
  },
  {
   "cell_type": "code",
   "execution_count": null,
   "metadata": {},
   "outputs": [],
   "source": [
    "# your code here"
   ]
  },
  {
   "attachments": {},
   "cell_type": "markdown",
   "metadata": {},
   "source": [
    "#### Ex4: Write function to count quantity of numbers inside a list:\n",
    "\n",
    "```\n",
    "Input: ['1', 'Ho Chi Minh', '2.5', 'Ha noi', 'Da Nang', '7']\n",
    "Output: 3\n",
    "```\n",
    "*Hint:* `string.isnumeric()`"
   ]
  },
  {
   "cell_type": "code",
   "execution_count": 7,
   "metadata": {},
   "outputs": [],
   "source": [
    "# Your code here\n"
   ]
  },
  {
   "attachments": {},
   "cell_type": "markdown",
   "metadata": {},
   "source": [
    "#### Ex5: REVERT WORDS: Given a sentence, return a sentence with the words reversed\n",
    "\n",
    "+ Function input: \n",
    "    + A sentence\n",
    "    + Seperator\n",
    "+ Function output:\n",
    "    + Reversed string and seperated by inputed seperator\n",
    "\n",
    "*Example:*\n",
    "\n",
    "    revert_words('I am home', '-') --> 'h-o-m-e-a-m-I'\n",
    "    revert_words('We are ready, '_') --> 'r_e_a_d_y_a_r_e_W_e'\n",
    "    \n",
    "**Note**: The .join() method may be useful here. The .join() method allows you to join together strings in a list with some connector string. For example, some uses of the .join() method:\n",
    "\n",
    "    >>> \"--\".join(['a','b','c'])\n",
    "    >>> 'a--b--c'\n",
    "\n",
    "This means if you had a list of words you wanted to turn back into a sentence, you could just join them with a single space string:\n",
    "\n",
    "    >>> \" \".join(['Hello','world'])\n",
    "    >>> \"Hello world\"\n",
    "\n",
    "One more hint, do you remember `list(string)` to split every single letter in a string?"
   ]
  },
  {
   "cell_type": "code",
   "execution_count": null,
   "metadata": {},
   "outputs": [],
   "source": [
    "# Your code here!\n"
   ]
  },
  {
   "cell_type": "markdown",
   "metadata": {},
   "source": [
    "# 2 - Anonymus (Lambda) Functions"
   ]
  },
  {
   "cell_type": "markdown",
   "metadata": {},
   "source": [
    "![sdf](https://i.ibb.co/Y0zryWj/6.gif)\n",
    "\n",
    "A lambda function is a small anonymous function.\n",
    "\n",
    "A lambda function can take any number of arguments, but can only have one expression.\n",
    "\n",
    "> **Syntax:**\\\n",
    "> ```python\n",
    "> lambda arguments : expression\n",
    "> ```"
   ]
  },
  {
   "cell_type": "code",
   "execution_count": 57,
   "metadata": {},
   "outputs": [
    {
     "data": {
      "text/plain": [
       "15"
      ]
     },
     "execution_count": 57,
     "metadata": {},
     "output_type": "execute_result"
    }
   ],
   "source": [
    "# ver1: Input n and return add 5 to n\n",
    "def add_five(n):\n",
    "    return n+5\n",
    "\n",
    "add_five(10)"
   ]
  },
  {
   "cell_type": "code",
   "execution_count": 18,
   "metadata": {},
   "outputs": [
    {
     "data": {
      "text/plain": [
       "15"
      ]
     },
     "execution_count": 18,
     "metadata": {},
     "output_type": "execute_result"
    }
   ],
   "source": [
    "# ver2: Input n and return add 5 to n\n",
    "add_five = lambda x: x+5\n",
    "add_five(10)"
   ]
  },
  {
   "cell_type": "code",
   "execution_count": 19,
   "metadata": {},
   "outputs": [
    {
     "data": {
      "text/plain": [
       "8"
      ]
     },
     "execution_count": 19,
     "metadata": {},
     "output_type": "execute_result"
    }
   ],
   "source": [
    "# Ver 1: Input x, y and return x**y:\n",
    "def cal_square(x, y):\n",
    "    return x**y\n",
    "\n",
    "cal_square(2, 3)"
   ]
  },
  {
   "cell_type": "code",
   "execution_count": 21,
   "metadata": {},
   "outputs": [
    {
     "data": {
      "text/plain": [
       "8"
      ]
     },
     "execution_count": 21,
     "metadata": {},
     "output_type": "execute_result"
    }
   ],
   "source": [
    "# Ver 2: Input x, y and return x**y:\n",
    "cal_square = lambda x, y: x**y\n",
    "\n",
    "cal_square(2, 3)"
   ]
  },
  {
   "cell_type": "code",
   "execution_count": 22,
   "metadata": {},
   "outputs": [
    {
     "data": {
      "text/plain": [
       "8"
      ]
     },
     "execution_count": 22,
     "metadata": {},
     "output_type": "execute_result"
    }
   ],
   "source": [
    "# Take out even number with your defined position:\n",
    "numbers = [0, 1, 2, 3, 4, 5, 6, 7, 8, 9]\n",
    "\n",
    "even_number = lambda l, i: [ n for n in numbers if n%2 == 0][i]\n",
    "even_number(numbers, 4) "
   ]
  },
  {
   "attachments": {},
   "cell_type": "markdown",
   "metadata": {},
   "source": [
    "#### Ex1: Using lambda function with input x, y and return result of: `x*10 + y**2 - 10`"
   ]
  },
  {
   "cell_type": "code",
   "execution_count": 3,
   "metadata": {},
   "outputs": [
    {
     "data": {
      "text/plain": [
       "19"
      ]
     },
     "execution_count": 3,
     "metadata": {},
     "output_type": "execute_result"
    }
   ],
   "source": [
    "# Your code here\n",
    "myLambda = lambda x,y: x*10 + y**2 - 10\n",
    "myLambda(2, 3)\n"
   ]
  },
  {
   "attachments": {},
   "cell_type": "markdown",
   "metadata": {},
   "source": [
    "#### Ex2: Using **lambda** function to extract month in date:\n",
    "```\n",
    "Example:\n",
    "+ Input: '2022-12-19'\n",
    "+ Outout: 12\n",
    "\n",
    "```"
   ]
  },
  {
   "cell_type": "code",
   "execution_count": 2,
   "metadata": {},
   "outputs": [
    {
     "data": {
      "text/plain": [
       "'12'"
      ]
     },
     "execution_count": 2,
     "metadata": {},
     "output_type": "execute_result"
    }
   ],
   "source": [
    "# Your code here:\n",
    "myLambda = lambda s: s.split(\"-\")[1]\n",
    "myLambda('2022-12-19')"
   ]
  },
  {
   "attachments": {},
   "cell_type": "markdown",
   "metadata": {},
   "source": [
    "#### Ex3: Using **lambda** function to extract months from a list of dates:\n",
    "\n",
    "```\n",
    "Example:\n",
    "+ Input: ['2022-12-19', '2022-11-20', '2022-10-21']\n",
    "+ Output: ['12', '11', '10']\n",
    "```"
   ]
  },
  {
   "cell_type": "code",
   "execution_count": 7,
   "metadata": {},
   "outputs": [],
   "source": [
    "date_list = ['2022-12-19', '2022-11-20', '2022-10-21']\n",
    "# Your code here"
   ]
  },
  {
   "cell_type": "code",
   "execution_count": 6,
   "metadata": {},
   "outputs": [
    {
     "ename": "NameError",
     "evalue": "name 'date_list' is not defined",
     "output_type": "error",
     "traceback": [
      "\u001b[1;31m---------------------------------------------------------------------------\u001b[0m",
      "\u001b[1;31mNameError\u001b[0m                                 Traceback (most recent call last)",
      "\u001b[1;32m~\\AppData\\Local\\Temp\\ipykernel_14868\\4204433564.py\u001b[0m in \u001b[0;36m<module>\u001b[1;34m\u001b[0m\n\u001b[0;32m      1\u001b[0m \u001b[0mmyLambda\u001b[0m \u001b[1;33m=\u001b[0m \u001b[1;32mlambda\u001b[0m \u001b[0marr\u001b[0m\u001b[1;33m:\u001b[0m \u001b[1;33m[\u001b[0m\u001b[0ms\u001b[0m\u001b[1;33m.\u001b[0m\u001b[0msplit\u001b[0m\u001b[1;33m(\u001b[0m\u001b[1;34m\"-\"\u001b[0m\u001b[1;33m)\u001b[0m\u001b[1;33m[\u001b[0m\u001b[1;36m1\u001b[0m\u001b[1;33m]\u001b[0m \u001b[1;32mfor\u001b[0m \u001b[0ms\u001b[0m \u001b[1;32min\u001b[0m \u001b[0marr\u001b[0m\u001b[1;33m]\u001b[0m\u001b[1;33m\u001b[0m\u001b[1;33m\u001b[0m\u001b[0m\n\u001b[1;32m----> 2\u001b[1;33m \u001b[0mmyLambda\u001b[0m\u001b[1;33m(\u001b[0m\u001b[0mdate_list\u001b[0m\u001b[1;33m)\u001b[0m\u001b[1;33m\u001b[0m\u001b[1;33m\u001b[0m\u001b[0m\n\u001b[0m",
      "\u001b[1;31mNameError\u001b[0m: name 'date_list' is not defined"
     ]
    }
   ],
   "source": [
    "myLambda = lambda arr: [s.split(\"-\")[1] for s in arr] \n",
    "myLambda(date_list)"
   ]
  },
  {
   "attachments": {},
   "cell_type": "markdown",
   "metadata": {},
   "source": [
    "# 3 - Errors and Exception handling"
   ]
  },
  {
   "cell_type": "markdown",
   "metadata": {},
   "source": [
    "Programming is a complex process. Since it is done by human beings, errors may often occur. Programming errors are called bugs and the process of tracking them down and correcting them is called debugging. Types bug:\n",
    "\n",
    "+ **Syntax error**. A syntax error occurs when a programmer writes an incorrect line of code (the structure of a program and the rules about that structure).\\ *Example:* ```print \"Tam Tran\"```\n",
    "+ **Runtime error**. Runtime errors are also called exceptions because they usually indicate that something exceptional (and bad) has happened. *Example:* ```print( a/0 )```\n",
    "+ **Semantic error (logic error).** The computer will not generate any error messages. However, your program will not do the right thing.\n",
    "\n",
    "> Your debugging friends: \\\n",
    ">    https://www.google.com/, https://stackoverflow.com/,... "
   ]
  },
  {
   "cell_type": "code",
   "execution_count": 17,
   "metadata": {},
   "outputs": [
    {
     "ename": "NameError",
     "evalue": "name 'prin' is not defined",
     "output_type": "error",
     "traceback": [
      "\u001b[1;31m---------------------------------------------------------------------------\u001b[0m",
      "\u001b[1;31mNameError\u001b[0m                                 Traceback (most recent call last)",
      "Cell \u001b[1;32mIn [17], line 1\u001b[0m\n\u001b[1;32m----> 1\u001b[0m prin(\u001b[39m'\u001b[39m\u001b[39ma\u001b[39m\u001b[39m'\u001b[39m)\n",
      "\u001b[1;31mNameError\u001b[0m: name 'prin' is not defined"
     ]
    }
   ],
   "source": [
    "prin('a')"
   ]
  },
  {
   "cell_type": "code",
   "execution_count": 19,
   "metadata": {},
   "outputs": [
    {
     "ename": "ZeroDivisionError",
     "evalue": "division by zero",
     "output_type": "error",
     "traceback": [
      "\u001b[1;31m---------------------------------------------------------------------------\u001b[0m",
      "\u001b[1;31mZeroDivisionError\u001b[0m                         Traceback (most recent call last)",
      "Cell \u001b[1;32mIn [19], line 2\u001b[0m\n\u001b[0;32m      1\u001b[0m a \u001b[39m=\u001b[39m \u001b[39m1000\u001b[39m\n\u001b[1;32m----> 2\u001b[0m \u001b[39mprint\u001b[39m( a\u001b[39m/\u001b[39;49m\u001b[39m0\u001b[39;49m )\n",
      "\u001b[1;31mZeroDivisionError\u001b[0m: division by zero"
     ]
    }
   ],
   "source": [
    "a = 1000\n",
    "print( a/0 )"
   ]
  },
  {
   "attachments": {},
   "cell_type": "markdown",
   "metadata": {},
   "source": [
    "**Raising and catching errors**\n",
    "\n",
    "The ***try/except*** control structure provides a way to process a run-time error and continue on with program execution With try/except\n",
    "\n",
    "**The syntax for *try & except* function:**\n",
    "```python\n",
    "try:\n",
    "   <Some Code.... >\n",
    "except <ErrorType>:\n",
    "   <exception handler code block>\n",
    "```"
   ]
  },
  {
   "cell_type": "code",
   "execution_count": 10,
   "metadata": {},
   "outputs": [
    {
     "name": "stdout",
     "output_type": "stream",
     "text": [
      "1\n",
      "2\n"
     ]
    },
    {
     "ename": "ValueError",
     "evalue": "invalid literal for int() with base 10: 'three'",
     "output_type": "error",
     "traceback": [
      "\u001b[1;31m---------------------------------------------------------------------------\u001b[0m",
      "\u001b[1;31mValueError\u001b[0m                                Traceback (most recent call last)",
      "Cell \u001b[1;32mIn[10], line 4\u001b[0m\n\u001b[0;32m      2\u001b[0m lst \u001b[39m=\u001b[39m [\u001b[39m1\u001b[39m, \u001b[39m2\u001b[39m, \u001b[39m'\u001b[39m\u001b[39mthree\u001b[39m\u001b[39m'\u001b[39m, \u001b[39m4\u001b[39m, \u001b[39m5\u001b[39m]\n\u001b[0;32m      3\u001b[0m \u001b[39mfor\u001b[39;00m n \u001b[39min\u001b[39;00m lst:\n\u001b[1;32m----> 4\u001b[0m     \u001b[39mprint\u001b[39m( \u001b[39mint\u001b[39;49m(n) )\n",
      "\u001b[1;31mValueError\u001b[0m: invalid literal for int() with base 10: 'three'"
     ]
    }
   ],
   "source": [
    "#example: convert all values to integer\n",
    "lst = [1, 2, 'three', 4, 5]\n",
    "for n in lst:\n",
    "    print( int(n) )"
   ]
  },
  {
   "cell_type": "code",
   "execution_count": 11,
   "metadata": {},
   "outputs": [
    {
     "name": "stdout",
     "output_type": "stream",
     "text": [
      "1\n",
      "2\n",
      "three can not cast to int\n",
      "4\n",
      "5\n"
     ]
    }
   ],
   "source": [
    "# You try and except:\n",
    "for n in lst:\n",
    "    try:\n",
    "        print(int(n))\n",
    "    except:\n",
    "        print(f'{n} can not cast to int')  \n"
   ]
  }
 ],
 "metadata": {
  "kernelspec": {
   "display_name": "base",
   "language": "python",
   "name": "python3"
  },
  "language_info": {
   "codemirror_mode": {
    "name": "ipython",
    "version": 3
   },
   "file_extension": ".py",
   "mimetype": "text/x-python",
   "name": "python",
   "nbconvert_exporter": "python",
   "pygments_lexer": "ipython3",
   "version": "3.9.13 (main, Aug 25 2022, 23:51:50) [MSC v.1916 64 bit (AMD64)]"
  },
  "orig_nbformat": 4,
  "vscode": {
   "interpreter": {
    "hash": "418291e1de3955cfa7a11c463da689aa6aaa0b527a942b06b336a1db2fe0c421"
   }
  }
 },
 "nbformat": 4,
 "nbformat_minor": 2
}
