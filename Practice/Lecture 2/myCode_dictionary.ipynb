{
 "cells": [
  {
   "cell_type": "code",
   "execution_count": 11,
   "metadata": {},
   "outputs": [],
   "source": [
    "# Dictionary: bao gồm key và value\n",
    "myDictionary = {\n",
    "    'name': 'Văn Hiền',\n",
    "    'age': 18,\n",
    "    'school':'Bkacad',\n",
    "    'language': ['Java', 'Python']\n",
    "}"
   ]
  },
  {
   "cell_type": "code",
   "execution_count": 3,
   "metadata": {},
   "outputs": [
    {
     "data": {
      "text/plain": [
       "'Văn Hiền'"
      ]
     },
     "execution_count": 3,
     "metadata": {},
     "output_type": "execute_result"
    }
   ],
   "source": [
    "# lấy value bởi key\n",
    "myDictionary['name']"
   ]
  },
  {
   "cell_type": "code",
   "execution_count": 5,
   "metadata": {},
   "outputs": [
    {
     "data": {
      "text/plain": [
       "dict_keys(['name', 'age', 'school'])"
      ]
     },
     "execution_count": 5,
     "metadata": {},
     "output_type": "execute_result"
    }
   ],
   "source": [
    "# trả về tất cả keys\n",
    "myDictionary.keys()"
   ]
  },
  {
   "cell_type": "code",
   "execution_count": 6,
   "metadata": {},
   "outputs": [
    {
     "data": {
      "text/plain": [
       "dict_values(['Văn Hiền', 18, 'Bkacad'])"
      ]
     },
     "execution_count": 6,
     "metadata": {},
     "output_type": "execute_result"
    }
   ],
   "source": [
    "# trả về tất cả values\n",
    "myDictionary.values()"
   ]
  },
  {
   "cell_type": "code",
   "execution_count": 12,
   "metadata": {},
   "outputs": [
    {
     "data": {
      "text/plain": [
       "dict_items([('name', 'Văn Hiền'), ('age', 18), ('school', 'Bkacad'), ('language', ['Java', 'Python'])])"
      ]
     },
     "execution_count": 12,
     "metadata": {},
     "output_type": "execute_result"
    }
   ],
   "source": [
    "# trả về tất cả các cặp key và values\n",
    "myDictionary.items()"
   ]
  },
  {
   "cell_type": "code",
   "execution_count": 14,
   "metadata": {},
   "outputs": [
    {
     "data": {
      "text/plain": [
       "{'name': 'Văn Hiền',\n",
       " 'age': 18,\n",
       " 'school': 'Bkacad',\n",
       " 'language': ['Java', 'Python', 'JavaScript']}"
      ]
     },
     "execution_count": 14,
     "metadata": {},
     "output_type": "execute_result"
    }
   ],
   "source": [
    "# update key\n",
    "myDictionary['language'].append(\"JavaScript\")\n",
    "myDictionary"
   ]
  },
  {
   "cell_type": "code",
   "execution_count": 33,
   "metadata": {},
   "outputs": [
    {
     "data": {
      "text/plain": [
       "{'name': 'Văn Hiền',\n",
       " 'age': 18,\n",
       " 'school': 'HUST',\n",
       " 'language': ['Java', 'Python', 'JavaScript'],\n",
       " 'working': 'sfin'}"
      ]
     },
     "execution_count": 33,
     "metadata": {},
     "output_type": "execute_result"
    }
   ],
   "source": [
    "myDictionary['school'] = \"HUST\"\n",
    "myDictionary"
   ]
  },
  {
   "cell_type": "code",
   "execution_count": 32,
   "metadata": {},
   "outputs": [
    {
     "data": {
      "text/plain": [
       "{'name': 'Văn Hiền',\n",
       " 'age': 18,\n",
       " 'school': 'HUST',\n",
       " 'language': ['Java', 'Python', 'JavaScript'],\n",
       " 'working': 'sfin'}"
      ]
     },
     "execution_count": 32,
     "metadata": {},
     "output_type": "execute_result"
    }
   ],
   "source": [
    "# add thêm key và value\n",
    "myDictionary['working'] = \"sfin\"\n",
    "myDictionary"
   ]
  },
  {
   "cell_type": "code",
   "execution_count": 31,
   "metadata": {},
   "outputs": [
    {
     "name": "stdout",
     "output_type": "stream",
     "text": [
      "key: name, Value: Văn Hiền\n",
      "key: age, Value: 18\n",
      "key: school, Value: HUST\n",
      "key: language, Value: ['Java', 'Python', 'JavaScript']\n",
      "key: working, Value: sfin\n"
     ]
    }
   ],
   "source": [
    "for k, v in myDictionary.items():\n",
    "    print(f'key: {k}, Value: {v}')"
   ]
  }
 ],
 "metadata": {
  "kernelspec": {
   "display_name": "DA",
   "language": "python",
   "name": "python3"
  },
  "language_info": {
   "codemirror_mode": {
    "name": "ipython",
    "version": 3
   },
   "file_extension": ".py",
   "mimetype": "text/x-python",
   "name": "python",
   "nbconvert_exporter": "python",
   "pygments_lexer": "ipython3",
   "version": "3.9.15 (main, Nov 24 2022, 14:39:17) [MSC v.1916 64 bit (AMD64)]"
  },
  "orig_nbformat": 4,
  "vscode": {
   "interpreter": {
    "hash": "fb09cd9212fa740160dd5fcb7ff17218c3e800d9a2069df8c9449fe49fb588a6"
   }
  }
 },
 "nbformat": 4,
 "nbformat_minor": 2
}
